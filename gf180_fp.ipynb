{
 "cells": [
  {
   "cell_type": "markdown",
   "id": "f137f28a",
   "metadata": {},
   "source": [
    "## GF180MCU - first pass"
   ]
  },
  {
   "cell_type": "markdown",
   "id": "4ddc31b3",
   "metadata": {},
   "source": [
    "### Disable autoscrolling"
   ]
  },
  {
   "cell_type": "code",
   "execution_count": 1,
   "id": "a493666a",
   "metadata": {},
   "outputs": [
    {
     "data": {
      "application/javascript": [
       "IPython.OutputArea.prototype._should_scroll = function(lines) {\n",
       "    return false;\n",
       "}\n"
      ],
      "text/plain": [
       "<IPython.core.display.Javascript object>"
      ]
     },
     "metadata": {},
     "output_type": "display_data"
    }
   ],
   "source": [
    "%%javascript\n",
    "IPython.OutputArea.prototype._should_scroll = function(lines) {\n",
    "    return false;\n",
    "}"
   ]
  },
  {
   "cell_type": "markdown",
   "id": "40014345",
   "metadata": {},
   "source": [
    "### Simulation"
   ]
  },
  {
   "cell_type": "code",
   "execution_count": 2,
   "id": "691a5af9",
   "metadata": {},
   "outputs": [
    {
     "name": "stdout",
     "output_type": "stream",
     "text": [
      "Overwriting .spiceinit\n"
     ]
    }
   ],
   "source": [
    "%%writefile .spiceinit\n",
    "set ngbehavior=hs\n",
    "set ng_nomodcheck\n",
    "set color0=white\n",
    "set color1=black\n",
    "set xbrushwidth=2"
   ]
  },
  {
   "cell_type": "code",
   "execution_count": 3,
   "id": "a19187d8",
   "metadata": {},
   "outputs": [
    {
     "name": "stdout",
     "output_type": "stream",
     "text": [
      "Overwriting netlist.spice\n"
     ]
    }
   ],
   "source": [
    "%%writefile netlist.spice\n",
    "* gf180_fp\n",
    "* gf130 first pass simulation\n",
    "* goal: help figure out device names and accessible device parameters\n",
    "*       \n",
    "\n",
    "** spice model \n",
    ".include \"/Users/talarico/share/openmpw/pdk_gf180/gf180mcuC/libs.tech/ngspice/design.ngspice\"\n",
    ".lib \"/Users/talarico/share/openmpw/pdk_gf180/gf180mcuC/libs.tech/ngspice/sm141064.ngspice\" typical\n",
    "\n",
    ".option nomod post ; uncomment to see all parameters of the mos model\n",
    "\n",
    "** parameters\n",
    ".global gnd\n",
    ".param gs=1 ds=1\n",
    "\n",
    "** temperature\n",
    ".TEMP 27\n",
    "** hspice  default TNOM=25\n",
    "** ngspice default TNOM=27\n",
    "** eldo    default TNOM=27\n",
    "** spectre default TNOM=27\n",
    "\n",
    "** transistor geometrical dimensions\n",
    ".param L1 = 0.28u\n",
    ".param width = 10u\n",
    "\n",
    "** netlist\n",
    "Vdsn dn gnd 'ds'\n",
    "Vgsn gn gnd 'gs'\n",
    "\n",
    "Vsdp gnd dp 'ds'\n",
    "Vsgp gnd gp 'gs'\n",
    "\n",
    "xmn dn gn gnd gnd nfet_03v3 L='L1' W='width' \n",
    "+ AD={width*0.24u} AS={width*0.24u} \n",
    "+ PD={2*(width + 0.24u)} PS={2*(width + 0.24u)}\n",
    "\n",
    "xmp dp gp gnd gnd pfet_03v3 L='L1' W='width' \n",
    "+ AD={width*0.24u} AS={width*0.24u}\n",
    "+ PD={2*(width + 0.24u)} PS={2*(width + 0.24u)}\n",
    "\n",
    ".op\n",
    ".end"
   ]
  },
  {
   "cell_type": "code",
   "execution_count": 4,
   "id": "3630035c",
   "metadata": {},
   "outputs": [
    {
     "name": "stdout",
     "output_type": "stream",
     "text": [
      "\n",
      "Note: Compatibility modes selected: hs\n",
      "\n",
      "Warning: m=xx on .subckt line will override multiplier m hierarchy!\n",
      "\n",
      "\n",
      "Circuit: * gf180_fp\n",
      "\n",
      "Doing analysis at TEMP = 27.000000 and TNOM = 27.000000\n",
      "\n",
      "\n",
      "No. of Data Rows : 1\n",
      "\tNode                                  Voltage\n",
      "\t----                                  -------\n",
      "\t----\t-------\n",
      "\tgp                               -1.00000e+00\n",
      "\tdp                               -1.00000e+00\n",
      "\tgn                               1.000000e+00\n",
      "\tdn                               1.000000e+00\n",
      "\n",
      "\tSource\tCurrent\n",
      "\t------\t-------\n",
      "\n",
      "\tvdsn#branch                      -3.31728e-04\n",
      "\tvgsn#branch                      0.000000e+00\n",
      "\tvsdp#branch                      -6.31550e-05\n",
      "\tvsgp#branch                      0.000000e+00\n",
      "\n",
      " BSIM4v5: Berkeley Short Channel IGFET Model-4\n",
      "     device              m.xmp.m0              m.xmn.m0\n",
      "      model           pfet_03v3.8           nfet_03v3.8\n",
      "          l               2.8e-07               2.8e-07\n",
      "          w                 1e-05                 1e-05\n",
      "          m                     1                     1\n",
      "         nf                     1                     1\n",
      "         sa                     0                     0\n",
      "         sb                     0                     0\n",
      "         sd                     0                     0\n",
      "        sca                     0                     0\n",
      "        scb                     0                     0\n",
      "        scc                     0                     0\n",
      "         sc                     0                     0\n",
      "        min                     0                     0\n",
      "         ad               2.4e-12               2.4e-12\n",
      "         as               2.4e-12               2.4e-12\n",
      "         pd             2.048e-05             2.048e-05\n",
      "         ps             2.048e-05             2.048e-05\n",
      "        nrd                     0                     0\n",
      "        nrs                     0                     0\n",
      "        off                     0                     0\n",
      "       rbdb                    50                    50\n",
      "       rbsb                    50                    50\n",
      "       rbpb                    50                    50\n",
      "       rbps                    50                    50\n",
      "       rbpd                    50                    50\n",
      "     delvto                     0                    -0\n",
      "      mulu0                     1                     1\n",
      "        xgw                     0                     0\n",
      "      ngcon                     1                     1\n",
      "   trnqsmod                     0                     0\n",
      "   acnqsmod                     0                     0\n",
      "   rbodymod                     0                     0\n",
      "   rgatemod                     0                     0\n",
      "     geomod                     0                     0\n",
      "    rgeomod                     0                     0\n",
      "       gmbs           0.000133452           0.000310052\n",
      "         gm           0.000397762            0.00137201\n",
      "        gds           1.03167e-05           5.75498e-05\n",
      "      vdsat              0.275248              0.306063\n",
      "        vth              0.732962              0.636776\n",
      "         id            6.3155e-05           0.000331728\n",
      "        ibd          -1.00101e-12                -1e-12\n",
      "        ibs                     0                     0\n",
      "        gbd           1.00194e-12                 1e-12\n",
      "        gbs           1.00054e-12           1.00015e-12\n",
      "       isub           4.27687e-19           1.17321e-16\n",
      "      igidl                     0                     0\n",
      "      igisl                     0                     0\n",
      "        igs                     0                     0\n",
      "        igd                     0                     0\n",
      "        igb                     0                     0\n",
      "       igcs                     0                     0\n",
      "       igcd                     0                     0\n",
      "        vbs                    -0                     0\n",
      "        vgs                     1                     1\n",
      "        vds                     1                     1\n",
      "        cgg           9.32964e-15            8.4564e-15\n",
      "        cgs          -7.14135e-15          -7.03151e-15\n",
      "        cgd            5.9197e-17           1.18726e-16\n",
      "        cbg          -1.61432e-15          -1.37226e-15\n",
      "        cbd           2.69235e-17            2.8371e-17\n",
      "        cbs          -3.19654e-15          -1.77608e-15\n",
      "        cdg          -3.08908e-15          -2.83718e-15\n",
      "        cdd          -3.25433e-17          -5.62327e-17\n",
      "        cds           4.13728e-15           3.52478e-15\n",
      "        csg          -4.62624e-15          -4.24696e-15\n",
      "        csd          -5.35772e-17          -9.08639e-17\n",
      "        css           6.20061e-15           5.28282e-15\n",
      "        cgb          -2.24748e-15          -1.54361e-15\n",
      "        cdb          -1.01566e-15          -6.31364e-16\n",
      "        csb          -1.52079e-15          -9.44995e-16\n",
      "        cbb           4.78394e-15           3.11997e-15\n",
      "      capbd           7.13675e-15           7.83413e-15\n",
      "      capbs           8.65386e-15           9.97326e-15\n",
      "         qg           1.27685e-14           1.00155e-14\n",
      "         qb          -9.56744e-15          -6.44011e-15\n",
      "         qd          -1.28122e-15          -1.43116e-15\n",
      "         qs          -1.91986e-15          -2.14419e-15\n",
      "       qinv           2.17055e-15           2.77168e-15\n",
      "       qdef                    -0                     0\n",
      "       gcrg                     0                     0\n",
      "       gtau                     0                     0\n",
      "\n",
      " Vsource: Independent voltage source\n",
      "     device                  vsgp                  vsdp                  vgsn\n",
      "         dc                     1                     1                     1\n",
      "      acmag                     0                     0                     0\n",
      "      pulse         -         -         -\n",
      "        sin         -         -         -\n",
      "        exp         -         -         -\n",
      "        pwl         -         -         -\n",
      "       sffm         -         -         -\n",
      "         am         -         -         -\n",
      "    trnoise         -         -         -\n",
      "   trrandom         -         -         -\n",
      "    portnum                     0                     0                     0\n",
      "         z0                     0                     0                     0\n",
      "        pwr                     0                     0                     0\n",
      "       freq                     0                     0                     0\n",
      "      phase                     0                     0                     0\n",
      "          i                     0           -6.3155e-05                     0\n",
      "          p                     0           -6.3155e-05                     0\n",
      "\n",
      " Vsource: Independent voltage source\n",
      "     device                  vdsn\n",
      "         dc                     1\n",
      "      acmag                     0\n",
      "      pulse         -\n",
      "        sin         -\n",
      "        exp         -\n",
      "        pwl         -\n",
      "       sffm         -\n",
      "         am         -\n",
      "    trnoise         -\n",
      "   trrandom         -\n",
      "    portnum                     0\n",
      "         z0                     0\n",
      "        pwr                     0\n",
      "       freq                     0\n",
      "      phase                     0\n",
      "          i          -0.000331728\n",
      "          p          -0.000331728\n",
      "\n",
      "\n",
      "Total analysis time (seconds) = 0.000131\n",
      "\n",
      "Total CPU time (seconds) = 0.060 \n",
      "\n",
      "Total DRAM available = 65536.000 MB.\n",
      "DRAM currently available = 15195.094 MB.\n",
      "Maximum ngspice program size =   12.844 MB.\n",
      "Current ngspice program size =   12.844 MB.\n",
      "\n"
     ]
    }
   ],
   "source": [
    "!ngspice -b netlist.spice"
   ]
  }
 ],
 "metadata": {
  "kernelspec": {
   "display_name": "Python 3 (ipykernel)",
   "language": "python",
   "name": "python3"
  },
  "language_info": {
   "codemirror_mode": {
    "name": "ipython",
    "version": 3
   },
   "file_extension": ".py",
   "mimetype": "text/x-python",
   "name": "python",
   "nbconvert_exporter": "python",
   "pygments_lexer": "ipython3",
   "version": "3.11.5"
  }
 },
 "nbformat": 4,
 "nbformat_minor": 5
}
